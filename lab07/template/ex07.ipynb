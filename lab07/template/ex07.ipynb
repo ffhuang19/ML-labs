{
  "cells": [
    {
      "cell_type": "markdown",
      "id": "01054fa8",
      "metadata": {
        "id": "01054fa8"
      },
      "source": [
        "# Exercise 1: Visualizing KNN Decision Boundaries (Iris Dataset)\n",
        "In this exercise, we will train K-Nearest Neighbors (KNN) classifiers with different values of $k$, and visualize their decision boundaries after reducing the feature space to 2D using PCA.\n",
        "\n",
        "You are required to complete the function `plot_knn_decision_boundary()` as marked below."
      ]
    },
    {
      "cell_type": "markdown",
      "id": "485f03b0",
      "metadata": {
        "id": "485f03b0"
      },
      "source": [
        "### Step 1: Load the Iris dataset and apply PCA to reduce the feature space to 2D"
      ]
    },
    {
      "cell_type": "code",
      "execution_count": null,
      "id": "9606c916",
      "metadata": {
        "id": "9606c916"
      },
      "outputs": [],
      "source": [
        "# Import necessary libraries\n",
        "from sklearn.datasets import load_iris\n",
        "from sklearn.decomposition import PCA\n",
        "from sklearn.model_selection import train_test_split\n",
        "import matplotlib.pyplot as plt\n",
        "import numpy as np\n",
        "\n",
        "# Load the dataset\n",
        "iris = load_iris()\n",
        "# Apply PCA to reduce the dimensionality to 2D for visualization\n",
        "X = PCA(n_components=2).fit_transform(iris.data)\n",
        "y = iris.target\n",
        "# Split the data into training and test sets\n",
        "X_train, X_test, y_train, y_test = train_test_split(X, y, stratify=y, random_state=42)"
      ]
    },
    {
      "cell_type": "markdown",
      "id": "218b0be2",
      "metadata": {
        "id": "218b0be2"
      },
      "source": [
        "### Step 2: Implement the KNN decision boundary plot function\n",
        "Complete the parts marked with `INSERT YOUR CODE HERE`."
      ]
    },
    {
      "cell_type": "code",
      "execution_count": null,
      "id": "81aea3cb",
      "metadata": {
        "id": "81aea3cb"
      },
      "outputs": [],
      "source": [
        "# Import the KNN classifier\n",
        "from sklearn.neighbors import KNeighborsClassifier\n",
        "\n",
        "def plot_knn_decision_boundary(X_train, y_train, X_test, y_test, k):\n",
        "    \"\"\"\n",
        "    Trains a KNN model and plots the decision boundary in 2D space.\n",
        "\n",
        "    Args:\n",
        "        X_train: np.ndarray of shape (N_train, 2)\n",
        "        y_train: np.ndarray of shape (N_train,)\n",
        "        X_test: np.ndarray of shape (N_test, 2)\n",
        "        y_test: np.ndarray of shape (N_test,)\n",
        "        k: int, number of neighbors\n",
        "    \"\"\"\n",
        "    # ***************************************************\n",
        "    # INSERT YOUR CODE HERE\n",
        "    # TODO: Train a KNN classifier\n",
        "    # ***************************************************\n",
        "    raise NotImplementedError\n",
        "\n",
        "    # ***************************************************\n",
        "    # INSERT YOUR CODE HERE\n",
        "    # TODO: Create a mesh grid and predict class labels\n",
        "    # ***************************************************\n",
        "    raise NotImplementedError\n",
        "\n",
        "    # ***************************************************\n",
        "    # INSERT YOUR CODE HERE\n",
        "    # TODO: Plot decision boundary and data points\n",
        "    # ***************************************************\n",
        "    raise NotImplementedError"
      ]
    },
    {
      "cell_type": "markdown",
      "id": "149de44a",
      "metadata": {
        "id": "149de44a"
      },
      "source": [
        "### Step 3: Run your function with different values of k"
      ]
    },
    {
      "cell_type": "code",
      "execution_count": null,
      "id": "40be9a2a",
      "metadata": {
        "id": "40be9a2a"
      },
      "outputs": [],
      "source": [
        "for k in [1, 5, 15]:\n",
        "    plot_knn_decision_boundary(X_train, y_train, X_test, y_test, k)"
      ]
    },
    {
      "cell_type": "markdown",
      "id": "aadf1da8",
      "metadata": {
        "id": "aadf1da8"
      },
      "source": [
        "# Exercise 2: Random Forest vs Decision Tree Regression\n",
        "In this exercise, you will train a Decision Tree and a Random Forest on the California Housing dataset, evaluate their performance, and visualize feature importances.\n",
        "\n",
        "Complete the function `compare_rf_vs_dt()` as marked below."
      ]
    },
    {
      "cell_type": "markdown",
      "id": "3ce397a2",
      "metadata": {
        "id": "3ce397a2"
      },
      "source": [
        "### Step 1: Load the dataset and split it"
      ]
    },
    {
      "cell_type": "code",
      "execution_count": null,
      "id": "dfd828f9",
      "metadata": {
        "id": "dfd828f9"
      },
      "outputs": [],
      "source": [
        "from sklearn.datasets import fetch_california_housing\n",
        "from sklearn.model_selection import train_test_split\n",
        "\n",
        "# Load dataset\n",
        "housing = fetch_california_housing()\n",
        "# Split into training and test sets\n",
        "X_train, X_test, y_train, y_test = train_test_split(housing.data, housing.target, test_size=0.3, random_state=42)"
      ]
    },
    {
      "cell_type": "markdown",
      "id": "6ab4d97b",
      "metadata": {
        "id": "6ab4d97b"
      },
      "source": [
        "### Step 2: Implement the comparison function\n",
        "Complete all parts marked with `INSERT YOUR CODE HERE`."
      ]
    },
    {
      "cell_type": "code",
      "execution_count": null,
      "id": "97a14993",
      "metadata": {
        "id": "97a14993"
      },
      "outputs": [],
      "source": [
        "from sklearn.tree import DecisionTreeRegressor\n",
        "from sklearn.ensemble import RandomForestRegressor\n",
        "from sklearn.metrics import mean_squared_error\n",
        "import matplotlib.pyplot as plt\n",
        "\n",
        "def compare_rf_vs_dt():\n",
        "    \"\"\"\n",
        "    Compare a Decision Tree and a Random Forest model.\n",
        "    Plot predictions and feature importances.\n",
        "    \"\"\"\n",
        "    # ***************************************************\n",
        "    # INSERT YOUR CODE HERE\n",
        "    # TODO: Train a DecisionTreeRegressor and RandomForestRegressor\n",
        "    # ***************************************************\n",
        "    raise NotImplementedError\n",
        "\n",
        "    # ***************************************************\n",
        "    # INSERT YOUR CODE HERE\n",
        "    # TODO: Compute and print the test MSE for both models\n",
        "    # ***************************************************\n",
        "    raise NotImplementedError\n",
        "\n",
        "    # ***************************************************\n",
        "    # INSERT YOUR CODE HERE\n",
        "    # TODO: Plot scatter plots of true vs predicted values\n",
        "    # ***************************************************\n",
        "    raise NotImplementedError\n",
        "\n",
        "    # ***************************************************\n",
        "    # INSERT YOUR CODE HERE\n",
        "    # TODO: Plot feature importances from the Random Forest\n",
        "    # ***************************************************\n",
        "    raise NotImplementedError"
      ]
    },
    {
      "cell_type": "markdown",
      "id": "c1ab2679",
      "metadata": {
        "id": "c1ab2679"
      },
      "source": [
        "### Step 3: Call your function to display outputs"
      ]
    },
    {
      "cell_type": "code",
      "execution_count": null,
      "id": "a107b0c1",
      "metadata": {
        "id": "a107b0c1"
      },
      "outputs": [],
      "source": [
        "compare_rf_vs_dt()"
      ]
    }
  ],
  "metadata": {
    "language": "python",
    "colab": {
      "provenance": []
    }
  },
  "nbformat": 4,
  "nbformat_minor": 5
}